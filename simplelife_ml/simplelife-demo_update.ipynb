{
 "cells": [
  {
   "cell_type": "markdown",
   "metadata": {},
   "source": [
    "# Basic usage tutorial\n",
    "\n",
    "To run this notebook and simply get all the outputs below, Go to the **Cell** menu above, and then click **Run All**."
   ]
  },
  {
   "cell_type": "markdown",
   "metadata": {},
   "source": [
    "## About this notebook\n",
    "\n",
    "This notebook intoduces the basic usage of **lifelib** using **simplelife** projcet. To know more about the **simplelife** project, visit [simplelife project page].\n",
    "\n",
    "### Running online\n",
    "\n",
    "If you are reading this notebook on https://lifelib.io, This notebook is also avaialbe as an executable version on binder. Follow the *launch binder* banner on https://lifelib.io. You cannot save your changes made to this notebook permanently online. If you want save changes, download the notebook to your local computer.\n",
    "\n",
    "\n",
    "### Running locally\n",
    "This notebook is included in **simplelife** project. To run this notebook locally, install *Anaconda* and lifelib package, then create a simplelife project. These steps are explained in more details on https://lifelib.io/quickstart.html. To launch Jupyter notebook locally, launch or go to *Anaconda Prompt*, change the current directory to your project folder by `cd` command, then type:\n",
    "\n",
    "    > jupyter notebook\n",
    "\n",
    "Your default browser will create a new tab for jupyter notebook. From the list of files, click **simplelife-basic-usage.ipynb**.\n",
    "\n",
    "[simplelife project page]:https://lifelib.io/projects/simplelife.html"
   ]
  },
  {
   "cell_type": "markdown",
   "metadata": {},
   "source": [
    "## How to use Jupyter Notebook\n",
    "Jupter notebook enables you to run a Python script piece by piece. You can run each piece of code (called a \"cell\") by putting the cursor in the cell and pressing **Shift + Enter**, and get the output right below the input code of the cell.\n",
    "\n",
    "If you want to learn more about Jupyter Notebook, [this tutorial] will help you. There are also plenty of other resources on the internet about Jupyter Notebook, as it is quite popular.\n",
    "\n",
    "[this tutorial]: https://nbviewer.jupyter.org/github/jupyter/notebook/blob/master/docs/source/examples/Notebook/Running%20Code.ipynb"
   ]
  },
  {
   "cell_type": "markdown",
   "metadata": {},
   "source": [
    "## Project folder\n",
    "\n",
    "By default, your project folder contains [project modules] and a few other files, such as an input file or sample scripts.\n",
    "\n",
    "[project modules]: https://lifelib.io/projects/simplelife.html#project-modules"
   ]
  },
  {
   "cell_type": "markdown",
   "metadata": {},
   "source": [
    "## Building a model\n",
    "\n"
   ]
  },
  {
   "cell_type": "markdown",
   "metadata": {},
   "source": [
    "## Checking the model"
   ]
  },
  {
   "cell_type": "markdown",
   "metadata": {},
   "source": [
    "## Setup for graphs"
   ]
  },
  {
   "cell_type": "code",
   "execution_count": null,
   "metadata": {
    "collapsed": true
   },
   "outputs": [],
   "source": [
    "%matplotlib notebook"
   ]
  },
  {
   "cell_type": "code",
   "execution_count": null,
   "metadata": {
    "scrolled": true
   },
   "outputs": [],
   "source": [
    "\"\"\"\n",
    ":mod:`simplelife` cashflow\n",
    "==========================\n",
    "\n",
    "Draw a graph of liability cashflows of a simple whole life policy\n",
    "\n",
    "*Run this sample now!* |binder simplelife_demo|\n",
    "\n",
    ".. include:: /binderlinks.rst\n",
    "   :start-after: Begin binder simplelife_demo\n",
    "   :end-before: End binder simplelife_demo\n",
    "\n",
    "\"\"\"\n",
    "import modelx as mx\n",
    "import pandas as pd\n",
    "import seaborn as sns\n",
    "sns.set()\n",
    "\n",
    "import simplelife\n",
    "\n",
    "\n",
    "polid = 171\n",
    "proj = simplelife.build(load_saved=True).Projection[polid]\n",
    "\n",
    "# %% Draw NetCashflows Graph\n",
    "data = {'NetCashflows': [proj.NetInsurCF[t] for t in range(50)]}\n",
    "ax = pd.DataFrame(data).plot.line(marker='o', color='r')\n",
    "\n",
    "# %% Draw componets of net cashflows\n",
    "\n",
    "vars = ['PremIncome',\n",
    "        'BenefitSurr',\n",
    "        'BenefitDeath',\n",
    "        'ExpsMaint',\n",
    "        'ExpsCommTotal',\n",
    "        'ExpsAcq']\n",
    "\n",
    "\n",
    "df = proj.cells[vars].to_frame(range(50))\n",
    "\n",
    "df[vars[1:]] = df[vars[1:]].mul(-1)   # Change outflows to negatives\n",
    "df.plot(kind='bar', stacked=True, ax=ax, title='Insurance Cashflows')"
   ]
  }
 ],
 "metadata": {
  "celltoolbar": "Raw Cell Format",
  "kernelspec": {
   "display_name": "Python 3",
   "language": "python",
   "name": "python3"
  },
  "language_info": {
   "codemirror_mode": {
    "name": "ipython",
    "version": 3
   },
   "file_extension": ".py",
   "mimetype": "text/x-python",
   "name": "python",
   "nbconvert_exporter": "python",
   "pygments_lexer": "ipython3",
   "version": "3.6.4"
  }
 },
 "nbformat": 4,
 "nbformat_minor": 2
}
